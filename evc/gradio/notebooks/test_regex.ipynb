{
 "cells": [
  {
   "cell_type": "code",
   "execution_count": 12,
   "id": "efe7f459-baf0-4035-af6f-8a7094beba67",
   "metadata": {},
   "outputs": [
    {
     "name": "stdout",
     "output_type": "stream",
     "text": [
      "7\n",
      "('12', '', '', 'pm')\n",
      "('12', ':01', '01', '')\n",
      "('12', ':01', '01', '')\n",
      "('02', '', '', '')\n",
      "('12', '.30', '30', 'pm')\n",
      "('12', ':30', '30', 'pm')\n",
      "('2', '.30', '30', 'am')\n"
     ]
    }
   ],
   "source": [
    "import re\n",
    "\n",
    "# 입력 문장\n",
    "text = \"약속 시간은 15:30 분입니다.\"\n",
    "text = '''\n",
    "12pm\n",
    "12:01\n",
    "12:01:02\n",
    "12.30pm\n",
    "12:30pm\n",
    "2.30 am'''\n",
    "\n",
    "# 시간을 찾아내는 정규표현식 패턴\n",
    "#time_pattern = r\"\\b([01]?[0-9]|2[0-3])시 ([0-5]?[0-9])분\\b\"\n",
    "time_pattern = r'(\\d{1,2})([.:](\\d{1,2}))?[ ]?(am|pm)?'\n",
    "\n",
    "\n",
    "# 정규표현식을 사용하여 시간을 찾아냄\n",
    "matches = re.findall(time_pattern, text)\n",
    "\n",
    "print(len(matches))\n",
    "\n",
    "# 찾아낸 시간 출력\n",
    "for match in matches:\n",
    "    hour = match[0]\n",
    "    minute = match[1]\n",
    "    #print(f\"찾아낸 시간: {hour}시 {minute}분\")\n",
    "    print(match)\n"
   ]
  },
  {
   "cell_type": "code",
   "execution_count": null,
   "id": "8455ae27-1a4c-43cf-83e9-0f7c750c3181",
   "metadata": {},
   "outputs": [],
   "source": []
  }
 ],
 "metadata": {
  "kernelspec": {
   "display_name": "dl4cv",
   "language": "python",
   "name": "dl4cv"
  },
  "language_info": {
   "codemirror_mode": {
    "name": "ipython",
    "version": 3
   },
   "file_extension": ".py",
   "mimetype": "text/x-python",
   "name": "python",
   "nbconvert_exporter": "python",
   "pygments_lexer": "ipython3",
   "version": "3.8.10"
  }
 },
 "nbformat": 4,
 "nbformat_minor": 5
}
