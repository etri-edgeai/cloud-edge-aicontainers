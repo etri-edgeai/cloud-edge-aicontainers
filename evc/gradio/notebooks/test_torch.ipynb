{
 "cells": [
  {
   "cell_type": "markdown",
   "id": "ab4c3e46-4e1d-41f9-9323-e6eb3f518eb8",
   "metadata": {},
   "source": [
    "# Torch test\n",
    "\n",
    "- https://nestedsoftware.com/2019/08/15/pytorch-hello-world-37mo.156165.html"
   ]
  },
  {
   "cell_type": "code",
   "execution_count": 1,
   "id": "c841d2ff-2f88-429d-8361-ad60eb7e6db3",
   "metadata": {},
   "outputs": [
    {
     "name": "stdout",
     "output_type": "stream",
     "text": [
      "PyTorch CUDA version: 11.8\n",
      "torchvision CUDA version: 11080\n"
     ]
    }
   ],
   "source": [
    "import torch\n",
    "import torchvision\n",
    "\n",
    "print(\"PyTorch CUDA version:\", torch.version.cuda)\n",
    "print(\"torchvision CUDA version:\", torchvision.version.cuda)\n"
   ]
  },
  {
   "cell_type": "code",
   "execution_count": 2,
   "id": "7f916824-8a35-4221-b2f3-54f96ff7077b",
   "metadata": {},
   "outputs": [
    {
     "name": "stdout",
     "output_type": "stream",
     "text": [
      "network topology: Net(\n",
      "  (hidden_layer): Linear(in_features=1, out_features=1, bias=True)\n",
      "  (output_layer): Linear(in_features=1, out_features=1, bias=True)\n",
      ")\n",
      "w_l1 = 1.58\n",
      "b_l1 = -0.14\n",
      "w_l2 = 2.45\n",
      "b_l2 = -0.11\n",
      "a_l2 = 0.8506\n",
      "updated_w_l1 = 1.5814\n",
      "updated_b_l1 = -0.1383\n",
      "updated_w_l2 = 2.4529\n",
      "updated_b_l2 = -0.1062\n",
      "updated_a_l2 = 0.8515\n"
     ]
    }
   ],
   "source": [
    "import torch\n",
    "import torch.nn as nn\n",
    "import torch.optim as optim\n",
    "\n",
    "class Net(nn.Module):\n",
    "    def __init__(self):\n",
    "        super(Net, self).__init__()\n",
    "        self.hidden_layer = nn.Linear(1, 1)\n",
    "        self.hidden_layer.weight = torch.nn.Parameter(torch.tensor([[1.58]]))\n",
    "        self.hidden_layer.bias = torch.nn.Parameter(torch.tensor([-0.14]))\n",
    "\n",
    "        self.output_layer = nn.Linear(1, 1)\n",
    "        self.output_layer.weight = torch.nn.Parameter(torch.tensor([[2.45]]))\n",
    "        self.output_layer.bias = torch.nn.Parameter(torch.tensor([-0.11]))\n",
    "\n",
    "    def forward(self, x):\n",
    "        x = torch.sigmoid(self.hidden_layer(x))\n",
    "        x = torch.sigmoid(self.output_layer(x))\n",
    "        return x\n",
    "\n",
    "\n",
    "net = Net()\n",
    "print(f\"network topology: {net}\")\n",
    "\n",
    "print(f\"w_l1 = {round(net.hidden_layer.weight.item(), 4)}\")\n",
    "print(f\"b_l1 = {round(net.hidden_layer.bias.item(), 4)}\")\n",
    "print(f\"w_l2 = {round(net.output_layer.weight.item(), 4)}\")\n",
    "print(f\"b_l2 = {round(net.output_layer.bias.item(), 4)}\")\n",
    "\n",
    "# run input data forward through network\n",
    "input_data = torch.tensor([0.8])\n",
    "output = net(input_data)\n",
    "print(f\"a_l2 = {round(output.item(), 4)}\")\n",
    "\n",
    "# backpropagate gradient\n",
    "target = torch.tensor([1.])\n",
    "criterion = nn.MSELoss()\n",
    "loss = criterion(output, target)\n",
    "net.zero_grad()\n",
    "loss.backward()\n",
    "\n",
    "# update weights and biases\n",
    "optimizer = optim.SGD(net.parameters(), lr=0.1)\n",
    "optimizer.step()\n",
    "\n",
    "print(f\"updated_w_l1 = {round(net.hidden_layer.weight.item(), 4)}\")\n",
    "print(f\"updated_b_l1 = {round(net.hidden_layer.bias.item(), 4)}\")\n",
    "print(f\"updated_w_l2 = {round(net.output_layer.weight.item(), 4)}\")\n",
    "print(f\"updated_b_l2 = {round(net.output_layer.bias.item(), 4)}\")\n",
    "\n",
    "output = net(input_data)\n",
    "print(f\"updated_a_l2 = {round(output.item(), 4)}\")"
   ]
  },
  {
   "cell_type": "code",
   "execution_count": null,
   "id": "536e8975-0df1-4561-a37e-c6cd525eec28",
   "metadata": {},
   "outputs": [],
   "source": []
  }
 ],
 "metadata": {
  "kernelspec": {
   "display_name": "dl4cv",
   "language": "python",
   "name": "dl4cv"
  },
  "language_info": {
   "codemirror_mode": {
    "name": "ipython",
    "version": 3
   },
   "file_extension": ".py",
   "mimetype": "text/x-python",
   "name": "python",
   "nbconvert_exporter": "python",
   "pygments_lexer": "ipython3",
   "version": "3.8.10"
  }
 },
 "nbformat": 4,
 "nbformat_minor": 5
}
