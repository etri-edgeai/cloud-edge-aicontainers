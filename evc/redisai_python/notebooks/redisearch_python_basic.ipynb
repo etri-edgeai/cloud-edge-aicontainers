{
 "cells": [
  {
   "cell_type": "markdown",
   "id": "15e7ba49-8e25-407c-b9a7-b9e0b89642e7",
   "metadata": {},
   "source": [
    "# redis python basic\n",
    "\n",
    "- https://redis.io/docs/clients/python/"
   ]
  },
  {
   "cell_type": "code",
   "execution_count": 3,
   "id": "01494fed-4944-4496-9f8a-c63da7acc4ab",
   "metadata": {},
   "outputs": [],
   "source": [
    "import redis"
   ]
  },
  {
   "cell_type": "markdown",
   "id": "8dc8952a-c5c9-4c0e-a86c-1f575286437c",
   "metadata": {},
   "source": [
    "### Connect"
   ]
  },
  {
   "cell_type": "code",
   "execution_count": 4,
   "id": "aff7d550-aec6-4e3d-acea-06303d701eff",
   "metadata": {},
   "outputs": [],
   "source": [
    "r = redis.Redis(host='0.0.0.0', port=6379, decode_responses=True)\n"
   ]
  },
  {
   "cell_type": "markdown",
   "id": "ea57a7e5-28d5-4466-adcf-cbd0f52dc331",
   "metadata": {},
   "source": [
    "### Store and retrieve a simple string."
   ]
  },
  {
   "cell_type": "code",
   "execution_count": 6,
   "id": "d0f2defc-8675-400f-bfbd-3fa9d19f9ea8",
   "metadata": {},
   "outputs": [
    {
     "data": {
      "text/plain": [
       "'bar'"
      ]
     },
     "execution_count": 6,
     "metadata": {},
     "output_type": "execute_result"
    }
   ],
   "source": [
    "r.set('foo', 'bar')\n",
    "# True\n",
    "r.get('foo')\n",
    "# bar"
   ]
  },
  {
   "cell_type": "markdown",
   "id": "e0618baa-6377-4bec-84fb-90d98208a9b0",
   "metadata": {},
   "source": [
    "### Store and retrieve a dict"
   ]
  },
  {
   "cell_type": "code",
   "execution_count": 7,
   "id": "398d0d98-d578-4060-bc18-ffc67d082af3",
   "metadata": {},
   "outputs": [
    {
     "data": {
      "text/plain": [
       "{'name': 'John', 'surname': 'Smith', 'company': 'Redis', 'age': '29'}"
      ]
     },
     "execution_count": 7,
     "metadata": {},
     "output_type": "execute_result"
    }
   ],
   "source": [
    "r.hset('user-session:123', mapping={\n",
    "    'name': 'John',\n",
    "    \"surname\": 'Smith',\n",
    "    \"company\": 'Redis',\n",
    "    \"age\": 29\n",
    "})\n",
    "# True\n",
    "\n",
    "r.hgetall('user-session:123')\n",
    "# {'surname': 'Smith', 'name': 'John', 'company': 'Redis', 'age': '29'}"
   ]
  },
  {
   "cell_type": "code",
   "execution_count": null,
   "id": "ecdd9b08-08bd-4c88-9384-4ecc070156a5",
   "metadata": {},
   "outputs": [],
   "source": []
  }
 ],
 "metadata": {
  "kernelspec": {
   "display_name": "dl4cv",
   "language": "python",
   "name": "dl4cv"
  },
  "language_info": {
   "codemirror_mode": {
    "name": "ipython",
    "version": 3
   },
   "file_extension": ".py",
   "mimetype": "text/x-python",
   "name": "python",
   "nbconvert_exporter": "python",
   "pygments_lexer": "ipython3",
   "version": "3.8.10"
  }
 },
 "nbformat": 4,
 "nbformat_minor": 5
}
