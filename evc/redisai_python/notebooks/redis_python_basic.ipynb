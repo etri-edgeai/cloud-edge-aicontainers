{
 "cells": [
  {
   "cell_type": "markdown",
   "id": "15e7ba49-8e25-407c-b9a7-b9e0b89642e7",
   "metadata": {},
   "source": [
    "# redisearch python basic\n",
    "\n",
    "- https://redis.io/docs/clients/python"
   ]
  },
  {
   "cell_type": "markdown",
   "id": "af2f9214-d391-4284-af78-db80c6d77e53",
   "metadata": {},
   "source": [
    "### Example Redis Search\n",
    "\n",
    "- Indexing and querying JSON documents\n",
    "- EVC test"
   ]
  },
  {
   "cell_type": "code",
   "execution_count": 48,
   "id": "63083027-67cb-4f3a-8fd6-b6c3ea9c8274",
   "metadata": {},
   "outputs": [],
   "source": [
    "import redis\n",
    "from redis.commands.json.path import Path\n",
    "import redis.commands.search.aggregation as aggregations\n",
    "import redis.commands.search.reducers as reducers\n",
    "from redis.commands.search.field import TextField, NumericField, TagField\n",
    "from redis.commands.search.indexDefinition import IndexDefinition, IndexType\n",
    "from redis.commands.search.query import NumericFilter, Query\n",
    "\n",
    "r = redis.Redis(host='0.0.0.0', port=6380)"
   ]
  },
  {
   "cell_type": "code",
   "execution_count": 49,
   "id": "594e023a-aad2-4724-8426-09a57abd32a0",
   "metadata": {},
   "outputs": [],
   "source": [
    "user1 = {\n",
    "    \"name\": \"Paul John\",\n",
    "    \"email\": \"paul.john@example.com\",\n",
    "    \"age\": 42,\n",
    "    \"city\": \"London\"\n",
    "}\n",
    "user2 = {\n",
    "    \"name\": \"Eden Zamir\",\n",
    "    \"email\": \"eden.zamir@example.com\",\n",
    "    \"age\": 29,\n",
    "    \"city\": \"Tel Aviv\"\n",
    "}\n",
    "user3 = {\n",
    "    \"name\": \"Paul Zamir\",\n",
    "    \"email\": \"paul.zamir@example.com\",\n",
    "    \"age\": 35,\n",
    "    \"city\": \"Tel Aviv\"\n",
    "}"
   ]
  },
  {
   "cell_type": "markdown",
   "id": "2fbab0a2-2063-4dcd-86f8-36afb17fe71d",
   "metadata": {},
   "source": [
    "- Define indexed fields and their data types using schema. Use JSON path expressions to map specific JSON elements to the schema fields."
   ]
  },
  {
   "cell_type": "code",
   "execution_count": 50,
   "id": "35e4d581-c208-46b5-94b4-08197994b41b",
   "metadata": {},
   "outputs": [],
   "source": [
    "schema = (\n",
    "    TextField(\"$.name\", as_name=\"name\"), \n",
    "    TagField(\"$.city\", as_name=\"city\"), \n",
    "    NumericField(\"$.age\", as_name=\"age\")\n",
    ")"
   ]
  },
  {
   "cell_type": "code",
   "execution_count": 51,
   "id": "6ce97706-7d23-454e-8ec9-a3837f8bd47d",
   "metadata": {},
   "outputs": [
    {
     "data": {
      "text/plain": [
       "(<redis.commands.search.field.TextField at 0x7f78229fa5e0>,\n",
       " <redis.commands.search.field.TagField at 0x7f78229faf40>,\n",
       " <redis.commands.search.field.NumericField at 0x7f78229afeb0>)"
      ]
     },
     "execution_count": 51,
     "metadata": {},
     "output_type": "execute_result"
    }
   ],
   "source": [
    "schema"
   ]
  },
  {
   "cell_type": "code",
   "execution_count": 59,
   "id": "f02408dd-2801-45e6-8baa-17801d9e8aaa",
   "metadata": {},
   "outputs": [
    {
     "name": "stdout",
     "output_type": "stream",
     "text": [
      "[-] error\n"
     ]
    }
   ],
   "source": [
    "rs = r.ft(\"idx:users\")\n",
    "\n",
    "try:\n",
    "    rs.create_index(\n",
    "        schema,\n",
    "        definition=IndexDefinition(\n",
    "            prefix=[\"user:\"], index_type=IndexType.JSON\n",
    "        )\n",
    "    )\n",
    "    # b'OK'\n",
    "except:\n",
    "    print('[-] error')\n",
    "    pass"
   ]
  },
  {
   "cell_type": "code",
   "execution_count": 58,
   "id": "97f2d96e-d265-489f-b9d6-ff5a3dc4e9ec",
   "metadata": {},
   "outputs": [
    {
     "data": {
      "text/plain": [
       "True"
      ]
     },
     "execution_count": 60,
     "metadata": {},
     "output_type": "execute_result"
    }
   ],
   "source": [
    "r.json().set(\"user:1\", Path.root_path(), user1)\n",
    "r.json().set(\"user:2\", Path.root_path(), user2)\n",
    "r.json().set(\"user:3\", Path.root_path(), user3)"
   ]
  },
  {
   "cell_type": "code",
   "execution_count": 54,
   "id": "ecdd9b08-08bd-4c88-9384-4ecc070156a5",
   "metadata": {},
   "outputs": [
    {
     "data": {
      "text/plain": [
       "Result{1 total, docs: [Document {'id': 'user:3', 'payload': None, 'json': '{\"name\":\"Paul Zamir\",\"email\":\"paul.zamir@example.com\",\"age\":35,\"city\":\"Tel Aviv\"}'}]}"
      ]
     },
     "execution_count": 61,
     "metadata": {},
     "output_type": "execute_result"
    }
   ],
   "source": [
    "res = rs.search(\n",
    "    Query(\"Paul @age:[30 40]\")\n",
    ")\n",
    "# Result{1 total, docs: [Document {'id': 'user:3', 'payload': None, 'json': '{\"name\":\"Paul Zamir\",\"email\":\"paul.zamir@example.com\",\"age\":35,\"city\":\"Tel Aviv\"}'}]}\n",
    "res"
   ]
  },
  {
   "cell_type": "code",
   "execution_count": 55,
   "id": "e7d0f26e-ac04-4755-ab5a-f1c8df98eda2",
   "metadata": {},
   "outputs": [
    {
     "data": {
      "text/plain": [
       "[Document {'id': 'user:1', 'payload': None, 'city': 'London'},\n",
       " Document {'id': 'user:3', 'payload': None, 'city': 'Tel Aviv'}]"
      ]
     },
     "execution_count": 62,
     "metadata": {},
     "output_type": "execute_result"
    }
   ],
   "source": [
    "ret = rs.search(\n",
    "    Query(\"Paul\").return_field(\"$.city\", as_field=\"city\")\n",
    ").docs\n",
    "# [Document {'id': 'user:1', 'payload': None, 'city': 'London'}, Document {'id': 'user:3', 'payload': None, 'city': 'Tel Aviv'}]\n",
    "ret"
   ]
  },
  {
   "cell_type": "code",
   "execution_count": 56,
   "id": "082cf0d1-1399-40d5-9f9b-cfaa912769ee",
   "metadata": {},
   "outputs": [
    {
     "name": "stdout",
     "output_type": "stream",
     "text": [
      "[[b'city', b'London', b'count', b'1'], [b'city', b'Tel Aviv', b'count', b'2']]\n"
     ]
    },
    {
     "data": {
      "text/plain": [
       "<redis.commands.search.aggregation.AggregateRequest at 0x7f7822910190>"
      ]
     },
     "execution_count": 63,
     "metadata": {},
     "output_type": "execute_result"
    }
   ],
   "source": [
    "req = aggregations.AggregateRequest(\"*\").group_by('@city', reducers.count().alias('count'))\n",
    "print(rs.aggregate(req).rows)\n",
    "# [[b'city', b'Tel Aviv', b'count', b'2'], [b'city', b'London', b'count', b'1']]\n",
    "req"
   ]
  },
  {
   "cell_type": "code",
   "execution_count": null,
   "id": "36b649b4-4bb4-48be-b9ab-008924c5cd4d",
   "metadata": {},
   "outputs": [],
   "source": []
  }
 ],
 "metadata": {
  "kernelspec": {
   "display_name": "dl4cv",
   "language": "python",
   "name": "dl4cv"
  },
  "language_info": {
   "codemirror_mode": {
    "name": "ipython",
    "version": 3
   },
   "file_extension": ".py",
   "mimetype": "text/x-python",
   "name": "python",
   "nbconvert_exporter": "python",
   "pygments_lexer": "ipython3",
   "version": "3.8.10"
  }
 },
 "nbformat": 4,
 "nbformat_minor": 5
}
